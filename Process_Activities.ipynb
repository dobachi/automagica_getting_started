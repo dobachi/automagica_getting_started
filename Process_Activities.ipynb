{
 "cells": [
  {
   "cell_type": "code",
   "execution_count": 1,
   "metadata": {},
   "outputs": [],
   "source": [
    "from automagica import *"
   ]
  },
  {
   "cell_type": "code",
   "execution_count": 2,
   "metadata": {},
   "outputs": [],
   "source": [
    "file_path = r\"C:\\Users\\dobachi\\Sources.win\\automagica_getting_started\\test.xlsx\""
   ]
  },
  {
   "cell_type": "code",
   "execution_count": 4,
   "metadata": {},
   "outputs": [],
   "source": [
    "OpenFile(file_path)"
   ]
  },
  {
   "cell_type": "code",
   "execution_count": 5,
   "metadata": {},
   "outputs": [],
   "source": [
    "OpenCalculator()"
   ]
  },
  {
   "cell_type": "code",
   "execution_count": null,
   "metadata": {},
   "outputs": [],
   "source": [
    "process_executable = \"\""
   ]
  },
  {
   "cell_type": "code",
   "execution_count": null,
   "metadata": {},
   "outputs": [],
   "source": [
    "LaunchProcess()"
   ]
  },
  {
   "cell_type": "code",
   "execution_count": 8,
   "metadata": {},
   "outputs": [],
   "source": [
    "OpenProgramByName(\"gvim.exe\")"
   ]
  },
  {
   "cell_type": "code",
   "execution_count": 9,
   "metadata": {},
   "outputs": [
    {
     "data": {
      "text/plain": [
       "False"
      ]
     },
     "execution_count": 9,
     "metadata": {},
     "output_type": "execute_result"
    }
   ],
   "source": [
    "ChromeRunning()"
   ]
  },
  {
   "cell_type": "code",
   "execution_count": 11,
   "metadata": {},
   "outputs": [
    {
     "data": {
      "text/plain": [
       "False"
      ]
     },
     "execution_count": 11,
     "metadata": {},
     "output_type": "execute_result"
    }
   ],
   "source": [
    "OnedriveRunning()"
   ]
  },
  {
   "cell_type": "code",
   "execution_count": 17,
   "metadata": {},
   "outputs": [
    {
     "data": {
      "text/plain": [
       "True"
      ]
     },
     "execution_count": 17,
     "metadata": {},
     "output_type": "execute_result"
    }
   ],
   "source": [
    "ProcessRunning(\"EXCEL.EXE\")"
   ]
  },
  {
   "cell_type": "code",
   "execution_count": 19,
   "metadata": {},
   "outputs": [
    {
     "data": {
      "text/plain": [
       "True"
      ]
     },
     "execution_count": 19,
     "metadata": {},
     "output_type": "execute_result"
    }
   ],
   "source": [
    "WordRunning()"
   ]
  },
  {
   "cell_type": "code",
   "execution_count": 20,
   "metadata": {},
   "outputs": [
    {
     "data": {
      "text/plain": [
       "True"
      ]
     },
     "execution_count": 20,
     "metadata": {},
     "output_type": "execute_result"
    }
   ],
   "source": [
    "FirefoxRunning()"
   ]
  },
  {
   "cell_type": "code",
   "execution_count": 18,
   "metadata": {},
   "outputs": [
    {
     "data": {
      "text/plain": [
       "{'ApplicationFrameHost.exe',\n",
       " 'ApsInsSvc.exe',\n",
       " 'CompPkgSrv.exe',\n",
       " 'Dashlane.exe',\n",
       " 'DashlanePlugin.exe',\n",
       " 'DolbyDAX2API.exe',\n",
       " 'EXCEL.EXE',\n",
       " 'EasyResume.exe',\n",
       " 'EvtEng.exe',\n",
       " 'FwSwitchService.exe',\n",
       " 'GoogleCrashHandler.exe',\n",
       " 'GoogleCrashHandler64.exe',\n",
       " 'Hyper.exe',\n",
       " 'ImeBroker.exe',\n",
       " 'IntelCpHDCPSvc.exe',\n",
       " 'IntelCpHeciSvc.exe',\n",
       " 'LITSSvc.exe',\n",
       " 'LMS.exe',\n",
       " 'Lenovo.Modern.ImController.PluginHost.CompanionApp.exe',\n",
       " 'Lenovo.Modern.ImController.PluginHost.Device.exe',\n",
       " 'Lenovo.Modern.ImController.PluginHost.SettingsApp.exe',\n",
       " 'Lenovo.Modern.ImController.exe',\n",
       " 'LenovoVantageService.exe',\n",
       " 'LockApp.exe',\n",
       " 'Memory Compression',\n",
       " 'Microsoft.Photos.exe',\n",
       " 'MicrosoftEdge.exe',\n",
       " 'MicrosoftEdgeCP.exe',\n",
       " 'MicrosoftEdgeSH.exe',\n",
       " 'ModemAuthenticator.exe',\n",
       " 'MsMpEng.exe',\n",
       " 'Music.UI.exe',\n",
       " 'NisSrv.exe',\n",
       " 'OfficeClickToRun.exe',\n",
       " 'PeopleExperienceHost.exe',\n",
       " 'PowerMgr.exe',\n",
       " 'RAVBg64.exe',\n",
       " 'RAVCpl64.exe',\n",
       " 'RegSrvc.exe',\n",
       " 'Registry',\n",
       " 'RemindersServer.exe',\n",
       " 'RtkAudioService64.exe',\n",
       " 'RuntimeBroker.exe',\n",
       " 'SearchIndexer.exe',\n",
       " 'SearchUI.exe',\n",
       " 'SecurityHealthService.exe',\n",
       " 'SecurityHealthSystray.exe',\n",
       " 'SettingSyncHost.exe',\n",
       " 'SgrmBroker.exe',\n",
       " 'ShellExperienceHost.exe',\n",
       " 'SkypeApp.exe',\n",
       " 'SkypeBackgroundHost.exe',\n",
       " 'SurfEasyService.exe',\n",
       " 'SurfEasyVPN.exe',\n",
       " 'SynTPEnh.exe',\n",
       " 'SynTPEnhService.exe',\n",
       " 'SynTPHelper.exe',\n",
       " 'System',\n",
       " 'System Idle Process',\n",
       " 'SystemSettings.exe',\n",
       " 'Thunderbolt.exe',\n",
       " 'UCManSvc.exe',\n",
       " 'Video.UI.exe',\n",
       " 'WINWORD.EXE',\n",
       " 'WUDFHost.exe',\n",
       " 'WWAHost.exe',\n",
       " 'WindowsInternal.ComposableShell.Experiences.TextInput.InputApp.exe',\n",
       " 'WmiPrvSE.exe',\n",
       " 'YourPhone.exe',\n",
       " 'ZeroConfigService.exe',\n",
       " 'backgroundTaskHost.exe',\n",
       " 'bash',\n",
       " 'bash.exe',\n",
       " 'browser_broker.exe',\n",
       " 'conhost.exe',\n",
       " 'csrss.exe',\n",
       " 'ctfmon.exe',\n",
       " 'dash',\n",
       " 'dllhost.exe',\n",
       " 'dwm.exe',\n",
       " 'esif_uf.exe',\n",
       " 'explorer.exe',\n",
       " 'firefox.exe',\n",
       " 'fontdrvhost.exe',\n",
       " 'fsnotifier64',\n",
       " 'geckodriver',\n",
       " 'googledrivesync.exe',\n",
       " 'ibmpmsvc.exe',\n",
       " 'igfxCUIService.exe',\n",
       " 'igfxEM.exe',\n",
       " 'igfxext.exe',\n",
       " 'imecfmui.exe',\n",
       " 'init',\n",
       " 'java',\n",
       " 'jhi_service.exe',\n",
       " 'jupyter-notebook.exe',\n",
       " 'jupyter.exe',\n",
       " 'lsass.exe',\n",
       " 'mozc_server',\n",
       " 'pipenv.exe',\n",
       " 'powershell.exe',\n",
       " 'python.exe',\n",
       " 'services.exe',\n",
       " 'shtctky.exe',\n",
       " 'sihost.exe',\n",
       " 'smartscreen.exe',\n",
       " 'smss.exe',\n",
       " 'spoolsv.exe',\n",
       " 'sppsvc.exe',\n",
       " 'svchost.exe',\n",
       " 'taskhostw.exe',\n",
       " 'tbtsvc.exe',\n",
       " 'tmux',\n",
       " 'tphkload.exe',\n",
       " 'tposd.exe',\n",
       " 'uim-helper-server',\n",
       " 'unsecapp.exe',\n",
       " 'vagrant-vmware-utility.exe',\n",
       " 'vcxsrv.exe',\n",
       " 'vim.gtk',\n",
       " 'vmcompute.exe',\n",
       " 'vmms.exe',\n",
       " 'vmnat.exe',\n",
       " 'vmnetdhcp.exe',\n",
       " 'vmware-authd.exe',\n",
       " 'vmware-hostd.exe',\n",
       " 'vmware-tray.exe',\n",
       " 'vmware-unity-helper.exe',\n",
       " 'vmware-usbarbitrator64.exe',\n",
       " 'vmware.exe',\n",
       " 'vpnclient_x64.exe',\n",
       " 'vpncmgr_x64.exe',\n",
       " 'wininit.exe',\n",
       " 'winlogon.exe',\n",
       " 'wlanext.exe',\n",
       " 'wslhost.exe'}"
      ]
     },
     "execution_count": 18,
     "metadata": {},
     "output_type": "execute_result"
    }
   ],
   "source": [
    "ListRunningProcesses()"
   ]
  },
  {
   "cell_type": "code",
   "execution_count": 22,
   "metadata": {},
   "outputs": [
    {
     "data": {
      "text/plain": [
       "8.1"
      ]
     },
     "execution_count": 22,
     "metadata": {},
     "output_type": "execute_result"
    }
   ],
   "source": [
    "CPULoad()"
   ]
  },
  {
   "cell_type": "code",
   "execution_count": 23,
   "metadata": {},
   "outputs": [
    {
     "data": {
      "text/plain": [
       "scpufreq(current=1400.0, min=0.0, max=1800.0)"
      ]
     },
     "execution_count": 23,
     "metadata": {},
     "output_type": "execute_result"
    }
   ],
   "source": [
    "CPUFreq()"
   ]
  },
  {
   "cell_type": "code",
   "execution_count": 24,
   "metadata": {},
   "outputs": [
    {
     "data": {
      "text/plain": [
       "scpustats(ctx_switches=3138284402, interrupts=3093092646, soft_interrupts=0, syscalls=3431653657)"
      ]
     },
     "execution_count": 24,
     "metadata": {},
     "output_type": "execute_result"
    }
   ],
   "source": [
    "CPUStats()"
   ]
  },
  {
   "cell_type": "code",
   "execution_count": null,
   "metadata": {},
   "outputs": [],
   "source": []
  }
 ],
 "metadata": {
  "kernelspec": {
   "display_name": "Python 3",
   "language": "python",
   "name": "python3"
  },
  "language_info": {
   "codemirror_mode": {
    "name": "ipython",
    "version": 3
   },
   "file_extension": ".py",
   "mimetype": "text/x-python",
   "name": "python",
   "nbconvert_exporter": "python",
   "pygments_lexer": "ipython3",
   "version": "3.7.5"
  }
 },
 "nbformat": 4,
 "nbformat_minor": 2
}
