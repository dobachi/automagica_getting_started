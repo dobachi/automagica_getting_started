{
 "cells": [
  {
   "cell_type": "markdown",
   "metadata": {},
   "source": [
    "# マウスとキーボード"
   ]
  },
  {
   "cell_type": "markdown",
   "metadata": {},
   "source": [
    "## 概要"
   ]
  },
  {
   "cell_type": "markdown",
   "metadata": {},
   "source": [
    "## 実行"
   ]
  },
  {
   "cell_type": "markdown",
   "metadata": {},
   "source": [
    "### マウス"
   ]
  },
  {
   "cell_type": "code",
   "execution_count": 2,
   "metadata": {},
   "outputs": [],
   "source": [
    "from automagica import *"
   ]
  },
  {
   "cell_type": "markdown",
   "metadata": {},
   "source": [
    "公式ドキュメントの [Mouseの章](https://automagica.readthedocs.io/#mouse) には、画面に対する位置情報の概念が記載されている。簡単に言うと、左上が `(0,0)` で、右下に行くにしたがって、縦横の数値が増える。"
   ]
  },
  {
   "cell_type": "markdown",
   "metadata": {},
   "source": [
    "現在のマウスの位置情報を取得する。ポップアップ画面で表示されるはずである。表示されたら、一度閉じること。（後続のマウス移動の処理が正常に動作しないため）"
   ]
  },
  {
   "cell_type": "code",
   "execution_count": 17,
   "metadata": {},
   "outputs": [],
   "source": [
    "GetMouseCoordinates()"
   ]
  },
  {
   "cell_type": "markdown",
   "metadata": {},
   "source": [
    "使い方としては、例えば自動的にクリックさせたい位置にマウスを持っていき、この関数を読んで数値を読み取る、ということが想定される。"
   ]
  },
  {
   "cell_type": "markdown",
   "metadata": {},
   "source": [
    "せっかくなのでWindowsのカレンダーを表示させてみる。\n",
    "まずはカレンダーの個所にマウスを持っていき、上記の `GetMouseCoordinates` を実行する。\n",
    "ここでは位置 `(1437, 851)` が得られたものとする。\n",
    "\n",
    "つづいて、当該位置をクリックする。"
   ]
  },
  {
   "cell_type": "code",
   "execution_count": 13,
   "metadata": {},
   "outputs": [],
   "source": [
    "ClickOnPosition(1437, 851)"
   ]
  },
  {
   "cell_type": "markdown",
   "metadata": {},
   "source": [
    "カレンダーが表示されただろうか？"
   ]
  },
  {
   "cell_type": "markdown",
   "metadata": {},
   "source": [
    "次は、マウスを任意の位置に動かす。"
   ]
  },
  {
   "cell_type": "code",
   "execution_count": 15,
   "metadata": {
    "collapsed": true
   },
   "outputs": [],
   "source": [
    "MoveToPosition(1000, 500) "
   ]
  },
  {
   "cell_type": "markdown",
   "metadata": {},
   "source": [
    "右クリックもできる。"
   ]
  },
  {
   "cell_type": "code",
   "execution_count": 26,
   "metadata": {},
   "outputs": [],
   "source": [
    "RightClickOnPosition(1000, 500)"
   ]
  },
  {
   "cell_type": "markdown",
   "metadata": {},
   "source": [
    "例えば、あらかじめ位置を取得しておくことで、右クリックしてメニューから選択、ということもできる。\n",
    "ここでは右クリックした後に「すべてを選択」させる項目が `(1093, 654)` にあるとして以下のように実行する。"
   ]
  },
  {
   "cell_type": "code",
   "execution_count": 29,
   "metadata": {},
   "outputs": [],
   "source": [
    "RightClickOnPosition(1000, 500)\n",
    "ClickOnPosition(1093, 654)"
   ]
  },
  {
   "cell_type": "markdown",
   "metadata": {},
   "source": [
    "そのほか以下のような機能が提供されている。\n",
    "\n",
    "* DoubleClickOnPosition\n",
    "* MoveRelative\n",
    "* DragToPosition\n",
    "* ClickOnImage\n",
    "  * `pyautogui.locateCenterOnScreen` を利用し、画像と一致する個所をクリックする"
   ]
  },
  {
   "cell_type": "markdown",
   "metadata": {},
   "source": [
    "### キーボード"
   ]
  },
  {
   "cell_type": "markdown",
   "metadata": {},
   "source": [
    "キーボードを入力できる。テキスト入力の目的以外にも、何らか制御する目的でキーボード入力する際にも使る。\n",
    "ここでは、メモ帳を起動してテキスト入力するようにしてみる。"
   ]
  },
  {
   "cell_type": "code",
   "execution_count": 62,
   "metadata": {},
   "outputs": [],
   "source": [
    "OpenNotepad()"
   ]
  },
  {
   "cell_type": "code",
   "execution_count": 63,
   "metadata": {},
   "outputs": [],
   "source": [
    "import win32gui\n",
    "import win32process\n",
    "import win32api\n",
    "import ctypes"
   ]
  },
  {
   "cell_type": "markdown",
   "metadata": {},
   "source": [
    "もしウィンドウ名が分からなければ、以下を実行して確認する。\n",
    "\n",
    "```\n",
    "win32gui.EnumWindows(lambda x, _: print(win32gui.GetWindowText(x)), None)\n",
    "```"
   ]
  },
  {
   "cell_type": "code",
   "execution_count": 64,
   "metadata": {},
   "outputs": [
    {
     "data": {
      "text/plain": [
       "8194024"
      ]
     },
     "execution_count": 64,
     "metadata": {},
     "output_type": "execute_result"
    }
   ],
   "source": [
    "notepad_handle = win32gui.FindWindow(None, \"無題 - メモ帳\")\n",
    "notepad_handle"
   ]
  },
  {
   "cell_type": "code",
   "execution_count": 61,
   "metadata": {},
   "outputs": [
    {
     "data": {
      "text/plain": [
       "1"
      ]
     },
     "execution_count": 61,
     "metadata": {},
     "output_type": "execute_result"
    }
   ],
   "source": [
    "threadid, processid = win32process.GetWindowThreadProcessId(notepad_handle)\n",
    "current_threadid = win32api.GetCurrentThreadId()\n",
    "win32process.AttachThreadInput(current_threadid, threadid, True)\n",
    "ctypes.windll.user32.BringWindowToTop(notepad_handle)"
   ]
  },
  {
   "cell_type": "code",
   "execution_count": 39,
   "metadata": {},
   "outputs": [
    {
     "ename": "error",
     "evalue": "(0, 'SetForegroundWindow', 'No error message is available')",
     "output_type": "error",
     "traceback": [
      "\u001b[1;31m---------------------------------------------------------------------------\u001b[0m",
      "\u001b[1;31merror\u001b[0m                                     Traceback (most recent call last)",
      "\u001b[1;32m<ipython-input-39-0fd0e984b0e9>\u001b[0m in \u001b[0;36m<module>\u001b[1;34m\u001b[0m\n\u001b[1;32m----> 1\u001b[1;33m \u001b[0mwin32gui\u001b[0m\u001b[1;33m.\u001b[0m\u001b[0mSetForegroundWindow\u001b[0m\u001b[1;33m(\u001b[0m\u001b[0mnotepad_handle\u001b[0m\u001b[1;33m)\u001b[0m\u001b[1;33m\u001b[0m\u001b[1;33m\u001b[0m\u001b[0m\n\u001b[0m",
      "\u001b[1;31merror\u001b[0m: (0, 'SetForegroundWindow', 'No error message is available')"
     ]
    }
   ],
   "source": [
    "win32gui.BringWindowToTop"
   ]
  },
  {
   "cell_type": "code",
   "execution_count": 7,
   "metadata": {},
   "outputs": [],
   "source": [
    "first_key = \"alt\"\n",
    "second_key = \"d\"\n",
    "PressHotkey(first_key,second_key,third_key=None)"
   ]
  },
  {
   "cell_type": "code",
   "execution_count": 14,
   "metadata": {},
   "outputs": [],
   "source": [
    "text = \"hoge\"\n",
    "PressKey(\"enter\")\n",
    "Type(text, interval_seconds=0.001)"
   ]
  },
  {
   "cell_type": "code",
   "execution_count": null,
   "metadata": {},
   "outputs": [],
   "source": []
  },
  {
   "cell_type": "code",
   "execution_count": null,
   "metadata": {},
   "outputs": [],
   "source": [
    "hoge"
   ]
  }
 ],
 "metadata": {
  "kernelspec": {
   "display_name": "Python 3",
   "language": "python",
   "name": "python3"
  },
  "language_info": {
   "codemirror_mode": {
    "name": "ipython",
    "version": 3
   },
   "file_extension": ".py",
   "mimetype": "text/x-python",
   "name": "python",
   "nbconvert_exporter": "python",
   "pygments_lexer": "ipython3",
   "version": "3.7.5"
  }
 },
 "nbformat": 4,
 "nbformat_minor": 2
}
