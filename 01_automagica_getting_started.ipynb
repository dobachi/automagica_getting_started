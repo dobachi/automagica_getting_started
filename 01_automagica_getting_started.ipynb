{
 "cells": [
  {
   "cell_type": "markdown",
   "metadata": {},
   "source": [
    "# Getting Startedを試す"
   ]
  },
  {
   "cell_type": "markdown",
   "metadata": {},
   "source": [
    "## 概要"
   ]
  },
  {
   "cell_type": "markdown",
   "metadata": {},
   "source": [
    "[Getting Started](https://automagica.readthedocs.io/#getting-started) では環境構築からExampleの実行まで紹介されている。\n",
    "\n",
    "サンプルの中でもExample 1では、エクセルに記載された「検索ワード」を読み取り、ChromeブラウザでGoogle検索した後、結果のリンクをエクセルに書き込む、という流れを体験できる。\n",
    "\n",
    "なお、Example 1ではいくつか都合の悪い個所があったので、以下の実行例では修正しながら実行している。"
   ]
  },
  {
   "cell_type": "markdown",
   "metadata": {},
   "source": [
    "## 実行"
   ]
  },
  {
   "cell_type": "markdown",
   "metadata": {},
   "source": [
    "Automagicaでは、automagica以下のメソッドをすべて読み込むことで複数のライブラリにまたがる機能をまとめて利用可能にしてくれる。"
   ]
  },
  {
   "cell_type": "code",
   "execution_count": 5,
   "metadata": {},
   "outputs": [],
   "source": [
    "from automagica import *\n",
    "import os"
   ]
  },
  {
   "cell_type": "markdown",
   "metadata": {},
   "source": [
    "ここではユーザのホームディレクトリ以下 `\\Sources.win\\automagica_getting_started\\test.xlsx` にエクセルを置いたものと仮定する。"
   ]
  },
  {
   "cell_type": "code",
   "execution_count": 12,
   "metadata": {},
   "outputs": [],
   "source": [
    "excel_path = os.environ[\"HOMEPATH\"] + r\"\\Sources.win\\automagica_getting_started\\test.xlsx\""
   ]
  },
  {
   "cell_type": "markdown",
   "metadata": {},
   "source": [
    "2019/10/29時点の公式ドキュメントのExample 1では、エクセルから検索ワードを拾うときに、for文の上限に足りないときにはリストに `None` が含まれた。これだと後続処理で都合が悪いので、それを除去する処理を追加した。\n",
    "\n",
    "また2019/10/29時点で公式ドキュメント上では、 `ExcelReadCell` を用いるようになっているが、引数の与え方が誤っている。引数に合わせるならば、`ExcelReadRowCol` を使うべきである。以下の例では `ExcelReadRowCol` を使うようにした。\n",
    "\n",
    "また2019/10/29時点で公式ドキュメント上では、 row番号に `2` が指定されているが、1行目から検索ワードを読み取る必要があるため、 `1` を指定すべきである。以下の例では `1` を使うようにした。"
   ]
  },
  {
   "cell_type": "code",
   "execution_count": 13,
   "metadata": {},
   "outputs": [],
   "source": [
    "lookup_terms = []\n",
    "for col in range(2,10):\n",
    "    lookup_terms.append(ExcelReadRowCol(excel_path, 1, col))\n",
    "    \n",
    "lookup_terms = list(filter(lambda x: x is not None, lookup_terms))"
   ]
  },
  {
   "cell_type": "code",
   "execution_count": 14,
   "metadata": {},
   "outputs": [
    {
     "data": {
      "text/plain": [
       "['Robot', 'President', 'Banana']"
      ]
     },
     "execution_count": 14,
     "metadata": {},
     "output_type": "execute_result"
    }
   ],
   "source": [
    "lookup_terms"
   ]
  },
  {
   "cell_type": "markdown",
   "metadata": {},
   "source": [
    "Seleniumの機能を利用し、ブラウザを立ち上げる。Automagica APIでは `ChromeBrowser()` で立ち上がる。"
   ]
  },
  {
   "cell_type": "code",
   "execution_count": 15,
   "metadata": {},
   "outputs": [],
   "source": [
    "browser = ChromeBrowser()"
   ]
  },
  {
   "cell_type": "markdown",
   "metadata": {},
   "source": [
    "実はAutomagicaには、ChromeのWebDriverが含まれている。上記メソッド内で、以下のように利用するようになっている。\n",
    "\n",
    "automagica/activities.py:508\n",
    "```\n",
    "    if platform.system() == 'Linux':\n",
    "        chromedriver_path = '\\\\bin\\\\webdriver\\\\linux64\\\\chromedriver'\n",
    "    elif platform.system() == 'Windows':\n",
    "        chromedriver_path = '\\\\bin\\\\win32\\\\chromedriver.exe'\n",
    "    else:\n",
    "        chromedriver_path = '\\\\bin\\\\mac64\\\\chromedriver.exe'\n",
    "```\n",
    "\n",
    "これを利用し、以下のように立ち上げるようになっている。\n",
    "\n",
    "automagica/activities.py:515\n",
    "```\n",
    "    from selenium.webdriver import Chrome, ChromeOptions\n",
    "\n",
    "    chrome_options = ChromeOptions()\n",
    "\n",
    "    if headless:\n",
    "        chrome_options.add_argument(\"--headless\")\n",
    "\n",
    "    if ignore_images:\n",
    "        prefs = {\"profile.managed_default_content_settings.images\": 2}\n",
    "        chrome_options.add_experimental_option(\"prefs\", prefs)\n",
    "\n",
    "    return Chrome(os.path.abspath(__file__).replace('activities.py', '') + chromedriver_path, chrome_options=chrome_options)\n",
    "```\n",
    "\n",
    "なお、関数の引数は\n",
    "\n",
    "automagica/activities.py:491\n",
    "```\n",
    "def ChromeBrowser(ignore_images=False, headless=False):\n",
    "```\n",
    "\n",
    "となっており、画像無視するかとヘッドあり・なしを選択できるようになっている。"
   ]
  },
  {
   "cell_type": "markdown",
   "metadata": {},
   "source": [
    "続いて、検索ワードごとにGoogle検索し、結果ページに表示されたリンクを取得してエクセルに書き込む処理は以下の通り。\n",
    "\n",
    "ここで、読み取り時と同様、公式ドキュメント上ではエクセルへの書き込みに、 `ExcelWriteCell` が使われているが、引数の与え方から見て、 `ExcelWriteRowCol` を用いるべきである。以下の例ではそのように修正してある。"
   ]
  },
  {
   "cell_type": "code",
   "execution_count": 16,
   "metadata": {},
   "outputs": [],
   "source": [
    "for j,item in enumerate(lookup_terms):\n",
    "\n",
    "    # Browse to Google\n",
    "    browser.get('https://google.com')\n",
    "    # Lookup the searchterm\n",
    "    browser.find_element_by_xpath('//*[@name=\"q\"]').send_keys(item)\n",
    "    # Search\n",
    "    browser.find_element_by_xpath('//*[@name=\"q\"]').submit()\n",
    "    # Get all found items\n",
    "    articles = browser.find_elements_by_class_name(\"g\")\n",
    "    # Parse the headertexts to find the urls\n",
    "    urls = []\n",
    "    for article in articles:\n",
    "        try:\n",
    "            import re\n",
    "            urls.append(re.findall('https?://(?:[-\\w.]|(?:%[\\da-fA-F]{2}))+', article.text)[0])\n",
    "        except:\n",
    "            pass\n",
    "\n",
    "    # Write found urls to Excel\n",
    "    for i,url in enumerate(urls):\n",
    "        ExcelWriteRowCol(excel_path, r=i+2, c=j+2, write_value=url)"
   ]
  },
  {
   "cell_type": "markdown",
   "metadata": {},
   "source": [
    "最後に、エクセルファイルを開いてどうなったか確認する。"
   ]
  },
  {
   "cell_type": "code",
   "execution_count": 18,
   "metadata": {},
   "outputs": [],
   "source": [
    "OpenFile(path=excel_path)"
   ]
  }
 ],
 "metadata": {
  "kernelspec": {
   "display_name": "Python 3",
   "language": "python",
   "name": "python3"
  },
  "language_info": {
   "codemirror_mode": {
    "name": "ipython",
    "version": 3
   },
   "file_extension": ".py",
   "mimetype": "text/x-python",
   "name": "python",
   "nbconvert_exporter": "python",
   "pygments_lexer": "ipython3",
   "version": "3.7.5"
  }
 },
 "nbformat": 4,
 "nbformat_minor": 2
}
