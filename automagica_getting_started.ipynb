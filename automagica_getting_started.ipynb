{
 "cells": [
  {
   "cell_type": "code",
   "execution_count": 2,
   "metadata": {},
   "outputs": [],
   "source": [
    "from automagica import *"
   ]
  },
  {
   "cell_type": "code",
   "execution_count": 3,
   "metadata": {},
   "outputs": [],
   "source": [
    "excel_path = r\"C:\\Users\\dobachi\\Sources.win\\automagica_getting_started\\test.xlsx\""
   ]
  },
  {
   "cell_type": "code",
   "execution_count": 12,
   "metadata": {},
   "outputs": [],
   "source": [
    "lookup_terms = []\n",
    "for col in range(2,10):\n",
    "    lookup_terms.append(ExcelReadRowCol(excel_path, 1, col))\n",
    "    \n",
    "lookup_terms = list(filter(lambda x: x is not None, lookup_terms))"
   ]
  },
  {
   "cell_type": "code",
   "execution_count": 13,
   "metadata": {},
   "outputs": [
    {
     "data": {
      "text/plain": [
       "['Robot', 'President', 'Banana']"
      ]
     },
     "execution_count": 13,
     "metadata": {},
     "output_type": "execute_result"
    }
   ],
   "source": [
    "lookup_terms"
   ]
  },
  {
   "cell_type": "code",
   "execution_count": 14,
   "metadata": {},
   "outputs": [],
   "source": [
    "browser = ChromeBrowser()"
   ]
  },
  {
   "cell_type": "code",
   "execution_count": 24,
   "metadata": {},
   "outputs": [],
   "source": [
    "for j,item in enumerate(lookup_terms):\n",
    "\n",
    "    # Browse to Google\n",
    "    browser.get('https://google.com')\n",
    "    # Lookup the searchterm\n",
    "    browser.find_element_by_xpath('//*[@name=\"q\"]').send_keys(item)\n",
    "    # Search\n",
    "    browser.find_element_by_xpath('//*[@name=\"q\"]').submit()\n",
    "    # Get all found items\n",
    "    articles = browser.find_elements_by_class_name(\"g\")\n",
    "    # Parse the headertexts to find the urls\n",
    "    urls = []\n",
    "    for article in articles:\n",
    "        try:\n",
    "            import re\n",
    "            urls.append(re.findall('https?://(?:[-\\w.]|(?:%[\\da-fA-F]{2}))+', article.text)[0])\n",
    "        except:\n",
    "            pass\n",
    "\n",
    "    # Write found urls to Excel\n",
    "    for i,url in enumerate(urls):\n",
    "        ExcelWriteRowCol(excel_path, r=i+2, c=j+2, write_value=url)"
   ]
  },
  {
   "cell_type": "code",
   "execution_count": null,
   "metadata": {},
   "outputs": [],
   "source": []
  }
 ],
 "metadata": {
  "kernelspec": {
   "display_name": "Python 3",
   "language": "python",
   "name": "python3"
  },
  "language_info": {
   "codemirror_mode": {
    "name": "ipython",
    "version": 3
   },
   "file_extension": ".py",
   "mimetype": "text/x-python",
   "name": "python",
   "nbconvert_exporter": "python",
   "pygments_lexer": "ipython3",
   "version": "3.7.5"
  }
 },
 "nbformat": 4,
 "nbformat_minor": 2
}
