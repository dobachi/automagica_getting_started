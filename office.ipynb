{
 "cells": [
  {
   "cell_type": "code",
   "execution_count": 26,
   "metadata": {},
   "outputs": [],
   "source": [
    "from automagica import *"
   ]
  },
  {
   "cell_type": "markdown",
   "metadata": {},
   "source": [
    "# Word"
   ]
  },
  {
   "cell_type": "code",
   "execution_count": 37,
   "metadata": {},
   "outputs": [],
   "source": [
    "word_path = r\"C:\\Users\\dobachi\\Sources.win\\automagica_getting_started\\test.docx\"\n",
    "new_word_path = r\"C:\\Users\\dobachi\\Sources.win\\automagica_getting_started\\test2.docx\"\n"
   ]
  },
  {
   "cell_type": "code",
   "execution_count": 38,
   "metadata": {},
   "outputs": [
    {
     "data": {
      "text/plain": [
       "<docx.document.Document at 0x23e61731958>"
      ]
     },
     "execution_count": 38,
     "metadata": {},
     "output_type": "execute_result"
    }
   ],
   "source": [
    "document = OpenWordDocument(word_path)\n",
    "document"
   ]
  },
  {
   "cell_type": "code",
   "execution_count": 39,
   "metadata": {},
   "outputs": [
    {
     "name": "stdout",
     "output_type": "stream",
     "text": [
      "<replace>\n",
      "\n",
      "これはテスト\n"
     ]
    }
   ],
   "source": [
    "for pr in document.paragraphs:\n",
    "    print(pr.text)"
   ]
  },
  {
   "cell_type": "code",
   "execution_count": 40,
   "metadata": {},
   "outputs": [
    {
     "data": {
      "text/plain": [
       "<docx.document.Document at 0x23e61731958>"
      ]
     },
     "execution_count": 40,
     "metadata": {},
     "output_type": "execute_result"
    }
   ],
   "source": [
    "ReplaceText(document, text='<replace>', replace_with='My text')"
   ]
  },
  {
   "cell_type": "code",
   "execution_count": 41,
   "metadata": {},
   "outputs": [
    {
     "name": "stdout",
     "output_type": "stream",
     "text": [
      "My text\n",
      "\n",
      "これはテスト\n"
     ]
    }
   ],
   "source": [
    "for pr in document.paragraphs:\n",
    "    print(pr.text)"
   ]
  },
  {
   "cell_type": "markdown",
   "metadata": {},
   "source": [
    "この状態ではまだ保存されていない。"
   ]
  },
  {
   "cell_type": "code",
   "execution_count": 44,
   "metadata": {},
   "outputs": [
    {
     "data": {
      "text/plain": [
       "<docx.text.paragraph.Paragraph at 0x23e6159fd08>"
      ]
     },
     "execution_count": 44,
     "metadata": {},
     "output_type": "execute_result"
    }
   ],
   "source": [
    "document.add_paragraph(\n",
    "    'これはテストだよ'\n",
    ")"
   ]
  },
  {
   "cell_type": "code",
   "execution_count": 45,
   "metadata": {},
   "outputs": [
    {
     "name": "stdout",
     "output_type": "stream",
     "text": [
      "My text\n",
      "\n",
      "これはテスト\n",
      "これはテスト\n",
      "これはテスト\n",
      "これはテストだよ\n"
     ]
    }
   ],
   "source": [
    "for pr in document.paragraphs:\n",
    "    print(pr.text)"
   ]
  },
  {
   "cell_type": "code",
   "execution_count": 47,
   "metadata": {},
   "outputs": [],
   "source": [
    "document.save(new_word_path)"
   ]
  },
  {
   "cell_type": "markdown",
   "metadata": {},
   "source": [
    "# Excel"
   ]
  },
  {
   "cell_type": "code",
   "execution_count": 51,
   "metadata": {},
   "outputs": [],
   "source": [
    "excel_path = r\"C:\\Users\\dobachi\\Sources.win\\automagica_getting_started\\test.xlsx\"\n",
    "new_excel_path = r\"C:\\Users\\dobachi\\Sources.win\\automagica_getting_started\\test2.xlsx\""
   ]
  },
  {
   "cell_type": "code",
   "execution_count": 52,
   "metadata": {},
   "outputs": [],
   "source": [
    "ExcelSaveExistingWorkbook(path=excel_path, new_path=new_excel_path)"
   ]
  },
  {
   "cell_type": "code",
   "execution_count": 53,
   "metadata": {},
   "outputs": [],
   "source": [
    "ExcelCreateWorkSheet(path=new_excel_path, sheet_name=\"追加\")"
   ]
  },
  {
   "cell_type": "code",
   "execution_count": 54,
   "metadata": {},
   "outputs": [
    {
     "data": {
      "text/plain": [
       "['Sheet1', '追加']"
      ]
     },
     "execution_count": 54,
     "metadata": {},
     "output_type": "execute_result"
    }
   ],
   "source": [
    "ExcelGetSheets(path=new_excel_path)"
   ]
  },
  {
   "cell_type": "code",
   "execution_count": 55,
   "metadata": {},
   "outputs": [
    {
     "data": {
      "text/plain": [
       "[['Google Search Term', 'Robot', 'President', 'Banana'],\n",
       " ['Link 1',\n",
       "  'https://www.robot.co.jp',\n",
       "  'https://president.jp',\n",
       "  'https://www.bananarepublic.co.jp'],\n",
       " ['Link 2',\n",
       "  'https://www.robot.co.jp',\n",
       "  'https://www.president.co.jp',\n",
       "  'https://www.bananarepublic.co.jp'],\n",
       " ['Link 3',\n",
       "  'https://ja.wikipedia.org',\n",
       "  'https://www.president.co.jp',\n",
       "  'https://ejje.weblio.jp'],\n",
       " ['Link 4',\n",
       "  'https://wired.jp',\n",
       "  'https://ejje.weblio.jp',\n",
       "  'https://bananarepublic.gap.co.jp'],\n",
       " ['Link 5',\n",
       "  'https://ejje.weblio.jp',\n",
       "  'https://www.fujisan.co.jp',\n",
       "  'https://bananarepublic.gap.co.jp'],\n",
       " ['Link 6',\n",
       "  'https://www.fanuc.co.jp',\n",
       "  'https://ja.wikipedia.org',\n",
       "  'https://eow.alc.co.jp'],\n",
       " ['Link 7',\n",
       "  'https://eow.alc.co.jp',\n",
       "  'https://presidentstore.jp',\n",
       "  'https://myrepublic.jp'],\n",
       " ['Link 8',\n",
       "  'https://tamashii.jp',\n",
       "  'https://presidentstore.jp',\n",
       "  'https://myrepublic.jp'],\n",
       " ['Link 9', 'https://www.softbank.jp', 'https://eow.alc.co.jp', None],\n",
       " [None, None, 'https://www.amazon.co.jp', None]]"
      ]
     },
     "execution_count": 55,
     "metadata": {},
     "output_type": "execute_result"
    }
   ],
   "source": [
    "ExcelPutSelectionInMatrix(path=new_excel_path, upper_left_cell=\"A1\", bottom_right_cell=\"D11\", sheet=\"Sheet1\")"
   ]
  },
  {
   "cell_type": "code",
   "execution_count": null,
   "metadata": {},
   "outputs": [],
   "source": []
  }
 ],
 "metadata": {
  "kernelspec": {
   "display_name": "Python 3",
   "language": "python",
   "name": "python3"
  },
  "language_info": {
   "codemirror_mode": {
    "name": "ipython",
    "version": 3
   },
   "file_extension": ".py",
   "mimetype": "text/x-python",
   "name": "python",
   "nbconvert_exporter": "python",
   "pygments_lexer": "ipython3",
   "version": "3.7.5"
  }
 },
 "nbformat": 4,
 "nbformat_minor": 2
}
